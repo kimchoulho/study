{
 "cells": [
  {
   "cell_type": "markdown",
   "id": "120beae4-dbce-4a0b-8037-f8649d1d74c4",
   "metadata": {},
   "source": [
    "## Layout mangement in wxPython"
   ]
  },
  {
   "cell_type": "markdown",
   "id": "35c2fcb1-b061-4614-a088-f776590fd6f6",
   "metadata": {},
   "source": [
    "# Absolute Positioning"
   ]
  },
  {
   "cell_type": "code",
   "execution_count": 1,
   "id": "1c798db9-9d41-4468-b7c5-973f085eb8f3",
   "metadata": {
    "tags": []
   },
   "outputs": [],
   "source": [
    "# %load absolute.py\n",
    "import wx\n",
    "\n",
    "class myFrame(wx.Frame):\n",
    "\n",
    "    def __init__(self, parent, title):\n",
    "        super(myFrame, self).__init__(parent, title=title, size=(800, 600))\n",
    "        \n",
    "        self.Center()\n",
    "        \n",
    "        self.panel = wx.Panel(self)\n",
    "        \n",
    "        self.panel.SetBackgroundColour(\"gray\")\n",
    "       \n",
    "        self.img1 = wx.StaticBitmap(self.panel, wx.ID_ANY, wx.Bitmap(\"./img/1.jpg\", wx.BITMAP_TYPE_ANY))\n",
    "        self.img2 = wx.StaticBitmap(self.panel, wx.ID_ANY, wx.Bitmap(\"./img/2.jpg\", wx.BITMAP_TYPE_ANY))\n",
    "        self.img3 = wx.StaticBitmap(self.panel, wx.ID_ANY, wx.Bitmap(\"./img/3.jpg\", wx.BITMAP_TYPE_ANY))\n",
    "        \n",
    "        self.img1.SetPosition((20, 20))\n",
    "        self.img2.SetPosition((20, 300))\n",
    "        self.img3.SetPosition((400, 30))\n",
    "\n",
    "def main():\n",
    "    \n",
    "    app = wx.App()\n",
    "    frame = myFrame(None, title='Absolute positioning')\n",
    "    frame.Show()\n",
    "    app.MainLoop()\n",
    "    \n",
    "    \n",
    "if __name__ == '__main__':\n",
    "    main()\n"
   ]
  },
  {
   "cell_type": "code",
   "execution_count": 2,
   "id": "d658ddf1-ba4b-4c15-8166-b1f8e6daccb3",
   "metadata": {
    "tags": []
   },
   "outputs": [],
   "source": [
    "%run absolute.py"
   ]
  },
  {
   "cell_type": "markdown",
   "id": "a7df33ad-5a78-492a-9414-66b6686eecb6",
   "metadata": {},
   "source": [
    "### border.py"
   ]
  },
  {
   "cell_type": "code",
   "execution_count": null,
   "id": "fab19987-fcce-4b72-8457-a462f7a2b73d",
   "metadata": {},
   "outputs": [],
   "source": [
    "# %load border.py\n",
    "import wx\n",
    "\n",
    "class myFrame(wx.Frame):\n",
    "    \n",
    "    def __init__(self, parent, title):\n",
    "        super(myFrame, self).__init__(parent, title=title)\n",
    "        \n",
    "        panel = wx.Panel(self)\n",
    "        panel.SetBackgroundColour('gray')\n",
    "        \n",
    "        vbox = wx.BoxSizer(wx.VERTICAL)\n",
    "        \n",
    "        Pan1 = wx.Panel(panel)\n",
    "        Pan1.SetBackgroundColour('white')\n",
    "\n",
    "        Pan2 = wx.Panel(panel)\n",
    "        Pan2.SetBackgroundColour('red')\n",
    "        \n",
    "        Pan3 = wx.Panel(panel)\n",
    "        Pan3.SetBackgroundColour('blue')\n",
    "        \n",
    "        img1 = wx.StaticBitmap(Pan1, wx.ID_ANY, wx.Bitmap('./img/1.jpg', wx.BITMAP_TYPE_ANY)) \n",
    "        img2 = wx.StaticBitmap(Pan2, wx.ID_ANY, wx.Bitmap('./img/2.jpg', wx.BITMAP_TYPE_ANY)) \n",
    "        img3 = wx.StaticBitmap(Pan3, wx.ID_ANY, wx.Bitmap('./img/3.jpg', wx.BITMAP_TYPE_ANY)) \n",
    "        \n",
    "        vbox.Add(Pan1, wx.ID_ANY, wx.EXPAND | wx.ALL, 10)\n",
    "        vbox.Add(Pan2, wx.ID_ANY, wx.EXPAND | wx.ALL, 10)\n",
    "        vbox.Add(Pan3, wx.ID_ANY, wx.EXPAND | wx.ALL, 10)\n",
    "        \n",
    "        panel.SetSizer(vbox)\n",
    "        \n",
    "\n",
    "def main():\n",
    "    \n",
    "    app = wx.App()\n",
    "    frame = myFrame(None, title='Border')\n",
    "    frame.Show()\n",
    "    app.MainLoop()\n",
    "    \n",
    "if __name__ == '__main__':\n",
    "    main()"
   ]
  },
  {
   "cell_type": "code",
   "execution_count": null,
   "id": "87165313-73e7-4e8e-b724-93ccf42ba5f7",
   "metadata": {},
   "outputs": [],
   "source": [
    "%run border.py"
   ]
  },
  {
   "cell_type": "markdown",
   "id": "7e157190-f632-4a4b-a206-91b16303ce11",
   "metadata": {},
   "source": [
    "# goto_class.py"
   ]
  },
  {
   "cell_type": "code",
   "execution_count": null,
   "id": "c8d7641f-87e8-4678-88fb-a10b78c4935e",
   "metadata": {
    "tags": []
   },
   "outputs": [],
   "source": [
    "# %load goto_class.py\n",
    "#!/usr/bin/env python\n",
    "\n",
    "import wx\n",
    "\n",
    "class myFrame(wx.Frame):\n",
    "\n",
    "    def __init__(self, parent, title):\n",
    "        super(myFrame, self).__init__(parent, title=title)\n",
    "        \n",
    "        self.Center()\n",
    "        \n",
    "        panel = wx.Panel(self)\n",
    "        \n",
    "        font = wx.SystemSettings.GetFont(wx.SYS_SYSTEM_FONT)\n",
    "        font.SetPointSize(9)\n",
    "        \n",
    "        vbox = wx.BoxSizer(wx.VERTICAL)\n",
    "        \n",
    "        hbox1 = wx.BoxSizer(wx.HORIZONTAL)\n",
    "        st1 = wx.StaticText(panel, label='Class Name')\n",
    "        st1.SetFont(font)\n",
    "        hbox1.Add(st1, flag=wx.RIGHT, border=8)\n",
    "        tc =wx.TextCtrl(panel)\n",
    "        hbox1.Add(tc, proportion=1)\n",
    "        vbox.Add(hbox1, flag=wx.EXPAND|wx.LEFT|wx.RIGHT|wx.TOP, border=10)\n",
    "            \n",
    "        vbox.Add((-1,10))\n",
    "        \n",
    "        hbox2 = wx.BoxSizer(wx.HORIZONTAL)\n",
    "        st2 = wx.StaticText(panel, label='Matching Classes')\n",
    "        st2.SetFont(font)\n",
    "        hbox2.Add(st2, flag=wx.RIGHT, border=8)\n",
    "        tc = wx.TextCtrl(panel)\n",
    "        hbox2.Add(tc, proportion=1)\n",
    "        vbox.Add(hbox2, flag=wx.EXPAND|wx.LEFT|wx.RIGHT|wx.TOP, border=10)\n",
    "        \n",
    "        vbox.Add((-1, 10))\n",
    "        \n",
    "        hbox3 = wx.BoxSizer(wx.HORIZONTAL)\n",
    "        tc = wx.TextCtrl(panel, style=wx.TE_MULTILINE)\n",
    "        hbox3.Add(tc, proportion=1, flag=wx.EXPAND, border=8)\n",
    "        vbox.Add(hbox3, proportion=1, flag=wx.LEFT|wx.RIGHT|wx.EXPAND, border=10)\n",
    "        \n",
    "        vbox.Add((-1, 10))\n",
    "        \n",
    "        hbox4 = wx.BoxSizer(wx.HORIZONTAL)\n",
    "        cb1 = wx.CheckBox(panel, label='Case Senditive')\n",
    "        cb1.SetFont(font)\n",
    "        hbox4.Add(cb1)\n",
    "        cb2 = wx.CheckBox(panel, label='Nested Classes')\n",
    "        cb2.SetFont(font)\n",
    "        hbox4.Add(cb2, flag=wx.LEFT, border=10)\n",
    "        cb3 = wx.CheckBox(panel, label='Non-Project classes')\n",
    "        cb3.SerFont(font)\n",
    "        hbox4.Add(cb3, flag=wx.LEFT, border=10)\n",
    "        vbox.Add(hbox4, flag=wx.LEFT, borfer=10)\n",
    "        \n",
    "        vbox.Add((-1, 25))\n",
    "        \n",
    "        \n",
    "        panel.SetSizer(vbox)\n",
    "\n",
    "def main():\n",
    "   \n",
    "    app = wx.App()\n",
    "    ex = myFrame(None, title='Go to Class')\n",
    "    ex.Show()\n",
    "    app.MainLoop()\n",
    "\n",
    "if __name__ == '__main__':\n",
    "    main()\n"
   ]
  },
  {
   "cell_type": "code",
   "execution_count": null,
   "id": "a2e5051a-d42c-48a8-8a0e-01477cc1a101",
   "metadata": {
    "tags": []
   },
   "outputs": [],
   "source": [
    "%save -f goto_class.py "
   ]
  },
  {
   "cell_type": "code",
   "execution_count": null,
   "id": "975a0890-7eb9-4bd3-9043-1cac830beae8",
   "metadata": {
    "tags": []
   },
   "outputs": [],
   "source": [
    "%run goto_class.py"
   ]
  },
  {
   "cell_type": "code",
   "execution_count": null,
   "id": "42edb255-5f90-4d5b-9371-27d543ae8b94",
   "metadata": {},
   "outputs": [],
   "source": []
  }
 ],
 "metadata": {
  "kernelspec": {
   "display_name": "파이션3.9로 공부하",
   "language": "python",
   "name": "study"
  },
  "language_info": {
   "codemirror_mode": {
    "name": "ipython",
    "version": 3
   },
   "file_extension": ".py",
   "mimetype": "text/x-python",
   "name": "python",
   "nbconvert_exporter": "python",
   "pygments_lexer": "ipython3",
   "version": "3.9.9"
  },
  "widgets": {
   "application/vnd.jupyter.widget-state+json": {
    "state": {},
    "version_major": 2,
    "version_minor": 0
   }
  }
 },
 "nbformat": 4,
 "nbformat_minor": 5
}
