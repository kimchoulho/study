{
 "cells": [
  {
   "cell_type": "markdown",
   "id": "120beae4-dbce-4a0b-8037-f8649d1d74c4",
   "metadata": {},
   "source": [
    "## Layout mangement in wxPython"
   ]
  },
  {
   "cell_type": "markdown",
   "id": "35c2fcb1-b061-4614-a088-f776590fd6f6",
   "metadata": {},
   "source": [
    "# Absolute Positioning"
   ]
  },
  {
   "cell_type": "code",
   "execution_count": 8,
   "id": "bd4cf761-e7f1-4f5f-b554-0055a4e22bb4",
   "metadata": {},
   "outputs": [],
   "source": [
    "import wx"
   ]
  },
  {
   "cell_type": "code",
   "execution_count": null,
   "id": "e132e88e-27d7-403f-b39c-aba26d1afe41",
   "metadata": {},
   "outputs": [],
   "source": [
    "  class myFrame(wx.Frame):\n",
    "\n",
    "    def __init__(self, parent, title):\n",
    "        super(myFrame, self).__init__(parent, title=title, size=(800, 600))\n",
    "        \n",
    "        self.Center()\n",
    "        \n",
    "        self.panel = wx.Panel(self)\n",
    "        \n",
    "        self.panel.SetBackgroundColour(\"gray\")\n",
    "        \n",
    "        self.img1 = wx.StaticBitmap(self.panel, wx.ID_ANY, wx.Bitmap(\"./img/1.jpg\", wx.BITMAP_TYPE_ANY))\n",
    "        \n",
    "        self.img2 = wx.StaticBitmap(self.panel, wx.ID_ANY, wx.Bitmap(\"./img/2.jpg\", wx.BITMAP_TYPE_ANY))\n",
    "        \n",
    "        self.img3 = wx.StaticBitmap(self.panel, wx.ID_ANY, wx.Bitmap(\"./img/3.jpg\", wx.BITMAP_TYPE_ANY))\n",
    "        \n",
    "        self.img1.SetPosition((20, 20))\n",
    "        self.img2.SetPosition((20, 300))\n",
    "        self.img3.SetPosition((400, 30))"
   ]
  },
  {
   "cell_type": "code",
   "execution_count": 22,
   "id": "2df2e1ef-6189-4530-accf-61a6d0cfdec9",
   "metadata": {},
   "outputs": [],
   "source": [
    "def main():\n",
    "    \n",
    "    app = wx.App()\n",
    "    frame = myFrame(None, title='Absolute positioning')\n",
    "    frame.Show()\n",
    "    app.MainLoop()\n",
    "    \n",
    "    \n",
    "if __name__ == '__main__':\n",
    "    main()\n",
    "    "
   ]
  },
  {
   "cell_type": "code",
   "execution_count": 28,
   "id": "4f8d3e72-3297-4574-904f-37d154ed3bc0",
   "metadata": {},
   "outputs": [
    {
     "name": "stdout",
     "output_type": "stream",
     "text": [
      "'' was not found in history, as a file, url, nor in the user namespace.\n"
     ]
    }
   ],
   "source": [
    "%save -f absolute.py"
   ]
  },
  {
   "cell_type": "code",
   "execution_count": 1,
   "id": "68424896-4437-4f44-90f0-98e174c7d0ad",
   "metadata": {
    "tags": []
   },
   "outputs": [],
   "source": [
    "import wx"
   ]
  },
  {
   "cell_type": "code",
   "execution_count": null,
   "id": "72a65c0a-e7b6-4da7-b69b-23c44868f65f",
   "metadata": {
    "tags": []
   },
   "outputs": [],
   "source": [
    "class myFrame(wx.Frame):\n",
    "    \n",
    "    def __init__(self, parent, title):\n",
    "        super(myFrame, self).__init__(parent, title=title)\n",
    "        \n",
    "        panel = wx.Panel(self)\n",
    "        panel.SetBackgroundColour('gray')\n",
    "        \n",
    "        vbox = wx.BoxSizer(wx.VERTICAL)\n",
    "        \n",
    "        Pan1 = wx.Panel(panel)\n",
    "        Pan1.SetBackgroundColour('white')\n",
    "\n",
    "        Pan2 = wx.Panel(panel)\n",
    "        Pan2.SetBackgroundColour('red')\n",
    "        \n",
    "        Pan3 = wx.Panel(panel)\n",
    "        Pan3.SetBackgroundColour('blue')\n",
    "        \n",
    "        img1 = wx.StaticBitmap(Pan1, wx.ID_ANY, wx.Bitmap('./img/1.jpg', wx.BITMAP_TYPE_ANY)) \n",
    "        img2 = wx.StaticBitmap(Pan2, wx.ID_ANY, wx.Bitmap('./img/2.jpg', wx.BITMAP_TYPE_ANY)) \n",
    "        img3 = wx.StaticBitmap(Pan3, wx.ID_ANY, wx.Bitmap('./img/3.jpg', wx.BITMAP_TYPE_ANY)) \n",
    "        \n",
    "        vbox.Add(Pan1, wx.ID_ANY, wx.EXPAND | wx.ALL, 10)\n",
    "        vbox.Add(Pan2, wx.ID_ANY, wx.EXPAND | wx.ALL, 10)\n",
    "        vbox.Add(Pan3, wx.ID_ANY, wx.EXPAND | wx.ALL, 10)\n",
    "        \n",
    "        panel.SetSizer(vbox)\n",
    "        "
   ]
  },
  {
   "cell_type": "code",
   "execution_count": 27,
   "id": "1d552db7-5ec7-43dc-9a7f-550a96e0f95e",
   "metadata": {
    "tags": []
   },
   "outputs": [],
   "source": [
    "def main():\n",
    "    \n",
    "    app = wx.App()\n",
    "    frame = myFrame(None, title='Border')\n",
    "    frame.Show()\n",
    "    app.MainLoop()\n",
    "    \n",
    "if __name__ == '__main__':\n",
    "    main()"
   ]
  }
 ],
 "metadata": {
  "kernelspec": {
   "display_name": "파이션3.9로 공부하",
   "language": "python",
   "name": "study"
  },
  "language_info": {
   "codemirror_mode": {
    "name": "ipython",
    "version": 3
   },
   "file_extension": ".py",
   "mimetype": "text/x-python",
   "name": "python",
   "nbconvert_exporter": "python",
   "pygments_lexer": "ipython3",
   "version": "3.9.9"
  },
  "widgets": {
   "application/vnd.jupyter.widget-state+json": {
    "state": {},
    "version_major": 2,
    "version_minor": 0
   }
  }
 },
 "nbformat": 4,
 "nbformat_minor": 5
}
